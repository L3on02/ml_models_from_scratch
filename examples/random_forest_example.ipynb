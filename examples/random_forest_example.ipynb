{
 "cells": [
  {
   "cell_type": "code",
   "execution_count": 1,
   "metadata": {},
   "outputs": [],
   "source": [
    "from models.random_forest import RandomForestClassifier\n",
    "from sklearn.ensemble import RandomForestClassifier"
   ]
  },
  {
   "cell_type": "code",
   "execution_count": null,
   "metadata": {},
   "outputs": [
    {
     "name": "stdout",
     "output_type": "stream",
     "text": [
      "{'max_depth': 9, 'min_samples_leaf': 2, 'min_samples_split': 1, 'n_estimators': 30, 'n_jobs': 1}\n"
     ]
    }
   ],
   "source": [
    "from models.random_forest import RandomForestClassifier\n",
    "from sklearn.model_selection import ParameterGrid, train_test_split\n",
    "from sklearn.datasets import load_digits\n",
    "from utils.grid_search_cv import GridSearchCV\n",
    "\n",
    "ds_c_hard = load_digits()\n",
    "X, Y = ds_c_hard.data, ds_c_hard.target\n",
    "X_train, X_test, Y_train, Y_test = train_test_split(X , Y, test_size=0.2, random_state=42)\n",
    "\n",
    "\n",
    "params = {\n",
    "    'n_jobs': [1],\n",
    "    'n_estimators': [10, 20, 30],\n",
    "    'max_depth': [7, 9, 11],\n",
    "    'min_samples_split': [1, 2, 3, 4],\n",
    "    'min_samples_leaf': [1, 2, 3]\n",
    "}\n",
    "\n",
    "param_grid = list(ParameterGrid(params))\n",
    "\n",
    "grid_search = GridSearchCV(RandomForestClassifier, param_grid, cv=5)\n",
    "\n",
    "grid_search.fit(X_train, Y_train)\n",
    "\n",
    "print(grid_search.best_params)"
   ]
  }
 ],
 "metadata": {
  "kernelspec": {
   "display_name": "venv",
   "language": "python",
   "name": "python3"
  },
  "language_info": {
   "codemirror_mode": {
    "name": "ipython",
    "version": 3
   },
   "file_extension": ".py",
   "mimetype": "text/x-python",
   "name": "python",
   "nbconvert_exporter": "python",
   "pygments_lexer": "ipython3",
   "version": "3.10.12"
  }
 },
 "nbformat": 4,
 "nbformat_minor": 2
}
