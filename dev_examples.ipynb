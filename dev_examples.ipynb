{
 "cells": [
  {
   "cell_type": "code",
   "execution_count": 1,
   "metadata": {},
   "outputs": [],
   "source": [
    "from sklearn.datasets import load_breast_cancer, fetch_california_housing\n",
    "from sklearn.model_selection import train_test_split\n",
    "from models.decision_tree import DecisionTreeClassifier, DecisionTreeRegressor\n",
    "from models.random_forest import RandomForestClassifier, RandomForestRegressor"
   ]
  },
  {
   "cell_type": "code",
   "execution_count": 2,
   "metadata": {},
   "outputs": [
    {
     "name": "stdout",
     "output_type": "stream",
     "text": [
      "Accuracy: 0.94\n",
      "Confusion Matrix:\n",
      "[[38  5]\n",
      " [ 2 69]]\n"
     ]
    }
   ],
   "source": [
    "ds = load_breast_cancer()\n",
    "X = ds.data\n",
    "Y = ds.target\n",
    "X_train, X_test, Y_train, Y_test = train_test_split(X, Y, test_size=0.2, random_state=42)\n",
    "\n",
    "dt_classifier = DecisionTreeClassifier(max_depth=5)\n",
    "\n",
    "# Fit the model\n",
    "dt_classifier.fit(X_train, Y_train)\n",
    "\n",
    "# Make predictions on the test set\n",
    "Y_pred = dt_classifier.predict(X_test)\n",
    "\n",
    "from sklearn.metrics import accuracy_score, confusion_matrix\n",
    "\n",
    "# Calculate accuracy\n",
    "accuracy = accuracy_score(Y_test, Y_pred)\n",
    "print(f'Accuracy: {accuracy:.2f}')\n",
    "\n",
    "# Display confusion matrix\n",
    "conf_matrix = confusion_matrix(Y_test, Y_pred)\n",
    "print('Confusion Matrix:')\n",
    "print(conf_matrix)"
   ]
  },
  {
   "cell_type": "code",
   "execution_count": 3,
   "metadata": {},
   "outputs": [
    {
     "name": "stdout",
     "output_type": "stream",
     "text": [
      "Mean Absolute Error: 0.39\n",
      "R^2 Score: 0.73\n"
     ]
    }
   ],
   "source": [
    "ds = fetch_california_housing()\n",
    "X = ds.data\n",
    "Y = ds.target\n",
    "X_train, X_test, Y_train, Y_test = train_test_split(X, Y, test_size=0.2, random_state=42)\n",
    "\n",
    "dt_regressor = DecisionTreeRegressor(max_depth=15)\n",
    "\n",
    "# Fit the model\n",
    "dt_regressor.fit(X_train, Y_train)\n",
    "\n",
    "# Make predictions on the test set\n",
    "Y_pred = dt_regressor.predict(X_test)\n",
    "\n",
    "from sklearn.metrics import  mean_absolute_error, r2_score\n",
    "\n",
    "# Calculate mean absolute error\n",
    "mae = mean_absolute_error(Y_test, Y_pred)\n",
    "print(f'Mean Absolute Error: {mae:.2f}')\n",
    "\n",
    "# Calculate R^2 score\n",
    "r2 = r2_score(Y_test, Y_pred)\n",
    "print(f'R^2 Score: {r2:.2f}')"
   ]
  },
  {
   "cell_type": "code",
   "execution_count": 1,
   "metadata": {},
   "outputs": [
    {
     "name": "stdout",
     "output_type": "stream",
     "text": [
      "(114, 30)\n",
      "Accuracy: 0.96\n",
      "[[40  3]\n",
      " [ 2 69]]\n"
     ]
    }
   ],
   "source": [
    "from sklearn.datasets import load_breast_cancer, fetch_california_housing\n",
    "from sklearn.model_selection import train_test_split\n",
    "from models.decision_tree import DecisionTreeClassifier, DecisionTreeRegressor\n",
    "from models.random_forest import RandomForestClassifier, RandomForestRegressor\n",
    "\n",
    "ds = load_breast_cancer()\n",
    "X = ds.data\n",
    "Y = ds.target\n",
    "X_train, X_test, Y_train, Y_test = train_test_split(X, Y, test_size=0.2, random_state=42)\n",
    "\n",
    "rf_classifier = RandomForestClassifier(n_jobs=-1, n_estimators=1)\n",
    "\n",
    "# Fit the model\n",
    "rf_classifier.fit(X_train, Y_train)\n",
    "\n",
    "# Make predictions on the test set\n",
    "print(X_test.shape)\n",
    "Y_pred = rf_classifier.predict(X_test)\n",
    "\n",
    "\n",
    "from sklearn.metrics import accuracy_score, confusion_matrix\n",
    "\n",
    "# Calculate accuracy\n",
    "accuracy = accuracy_score(Y_test, Y_pred)\n",
    "print(f'Accuracy: {accuracy:.2f}')\n",
    "\n",
    "# Display confusion matrix\n",
    "conf_matrix = confusion_matrix(Y_test, Y_pred)\n",
    "print(conf_matrix)"
   ]
  },
  {
   "cell_type": "code",
   "execution_count": null,
   "metadata": {},
   "outputs": [],
   "source": [
    "from sklearn.datasets import load_breast_cancer, fetch_california_housing\n",
    "from sklearn.model_selection import train_test_split\n",
    "from models.decision_tree import DecisionTreeClassifier, DecisionTreeRegressor\n",
    "from models.random_forest import RandomForestClassifier, RandomForestRegressor\n",
    "\n",
    "ds = fetch_california_housing()\n",
    "X = ds.data\n",
    "Y = ds.target\n",
    "X_train, X_test, Y_train, Y_test = train_test_split(X, Y, test_size=0.2, random_state=42)\n",
    "\n",
    "dt_regressor = RandomForestRegressor(n_jobs=-1, n_estimators=10)\n",
    "\n",
    "# Fit the model\n",
    "dt_regressor.fit(X_train, Y_train)\n",
    "\n",
    "# Make predictions on the test set\n",
    "Y_pred = dt_regressor.predict(X_test)\n",
    "\n",
    "from sklearn.metrics import  mean_absolute_error, r2_score\n",
    "\n",
    "# Calculate mean absolute error\n",
    "mae = mean_absolute_error(Y_test, Y_pred)\n",
    "print(f'Mean Absolute Error: {mae:.2f}')\n",
    "\n",
    "# Calculate R^2 score\n",
    "r2 = r2_score(Y_test, Y_pred)\n",
    "print(f'R^2 Score: {r2:.2f}')"
   ]
  },
  {
   "cell_type": "code",
   "execution_count": 3,
   "metadata": {},
   "outputs": [
    {
     "name": "stdout",
     "output_type": "stream",
     "text": [
      "Accuracy: 0.94\n",
      "[[39  4]\n",
      " [ 3 68]]\n"
     ]
    }
   ],
   "source": [
    "from sklearn.datasets import load_breast_cancer, fetch_california_housing\n",
    "from sklearn.model_selection import train_test_split\n",
    "from models.gradient_boosting_tree import GradientBoostingClassifier, GradientBoostingRegressor\n",
    "\n",
    "ds = load_breast_cancer()\n",
    "X = ds.data\n",
    "Y = ds.target\n",
    "X_train, X_test, Y_train, Y_test = train_test_split(X, Y, test_size=0.2, random_state=42)\n",
    "\n",
    "dt_classifier = GradientBoostingClassifier(max_depth=10, n_estimators=100, learning_rate=0.1, tolerance=0.05, patience=5)\n",
    "\n",
    "# Fit the model\n",
    "dt_classifier.fit(X_train, Y_train)\n",
    "\n",
    "# Make predictions on the test set\n",
    "Y_pred = dt_classifier.predict(X_test)\n",
    "\n",
    "\n",
    "from sklearn.metrics import accuracy_score, confusion_matrix\n",
    "\n",
    "# Calculate accuracy\n",
    "accuracy = accuracy_score(Y_test, Y_pred)\n",
    "print(f'Accuracy: {accuracy:.2f}')\n",
    "\n",
    "# Display confusion matrix\n",
    "conf_matrix = confusion_matrix(Y_test, Y_pred)\n",
    "print(conf_matrix)"
   ]
  },
  {
   "cell_type": "code",
   "execution_count": null,
   "metadata": {},
   "outputs": [],
   "source": [
    "from sklearn.datasets import load_breast_cancer, fetch_california_housing\n",
    "from sklearn.model_selection import train_test_split\n",
    "from models.gradient_boosting_tree import GradientBoostingClassifier, GradientBoostingRegressor\n",
    "\n",
    "ds = fetch_california_housing()\n",
    "X = ds.data\n",
    "Y = ds.target\n",
    "X_train, X_test, Y_train, Y_test = train_test_split(X, Y, test_size=0.2, random_state=42)\n",
    "\n",
    "dt_regressor = GradientBoostingRegressor(max_depth=10, n_estimators=100, learning_rate=0.1, tolerance=0.05, patience=5)\n",
    "\n",
    "# Fit the model\n",
    "dt_regressor.fit(X_train, Y_train)\n",
    "\n",
    "# Make predictions on the test set\n",
    "Y_pred = dt_regressor.predict(X_test)\n",
    "\n",
    "from sklearn.metrics import  mean_absolute_error, r2_score\n",
    "\n",
    "# Calculate mean absolute error\n",
    "mae = mean_absolute_error(Y_test, Y_pred)\n",
    "print(f'Mean Absolute Error: {mae:.2f}')\n",
    "\n",
    "# Calculate R^2 score\n",
    "r2 = r2_score(Y_test, Y_pred)\n",
    "print(f'R^2 Score: {r2:.2f}')"
   ]
  },
  {
   "cell_type": "code",
   "execution_count": null,
   "metadata": {},
   "outputs": [],
   "source": [
    "# Load modules\n",
    "from models.decision_tree import DecisionTreeClassifier as OwnDecisionTreeClassifier, DecisionTreeRegressor as OwnDecisionTreeRegressor\n",
    "from sklearn.tree import DecisionTreeClassifier as SklearnDecisionTreeClassifier, DecisionTreeRegressor as SklearnDecisionTreeRegressor\n",
    "\n",
    "from sklearn.model_selection import train_test_split\n",
    "\n",
    "from sklearn.metrics import classification_report\n",
    "from sklearn.metrics import mean_squared_error, r2_score, mean_absolute_percentage_error\n",
    "from sklearn.metrics import accuracy_score, precision_score, recall_score\n",
    "\n",
    "# diamonds dataset is a very large regression dataset which will test the efficiency of the algorithms\n",
    "from datasets.diamonds import load_diamonds\n",
    "\n",
    "ds_r_hard = load_diamonds()\n",
    "X, Y = ds_r_hard.data, ds_r_hard.target\n",
    "X_r_hard_train, X_r_hard_test, Y_r_hard_train, Y_r_hard_test = train_test_split(X, Y, test_size=0.2, random_state=42)"
   ]
  },
  {
   "cell_type": "code",
   "execution_count": null,
   "metadata": {},
   "outputs": [],
   "source": [
    "dt_regressor = OwnDecisionTreeRegressor()\n",
    "\n",
    "dt_regressor.fit(X_r_hard_train, Y_r_hard_train)\n",
    "Y_r_hard_pred = dt_regressor.predict(X_r_hard_test)\n",
    "\n",
    "print(r2_score(Y_r_hard_test, Y_r_hard_pred))"
   ]
  },
  {
   "cell_type": "code",
   "execution_count": null,
   "metadata": {},
   "outputs": [],
   "source": [
    "dt_regressor = SklearnDecisionTreeRegressor()\n",
    "\n",
    "dt_regressor.fit(X_r_hard_train, Y_r_hard_train)\n",
    "Y_r_hard_pred = dt_regressor.predict(X_r_hard_test)\n",
    "\n",
    "print(r2_score(Y_r_hard_test, Y_r_hard_pred))"
   ]
  },
  {
   "cell_type": "code",
   "execution_count": 2,
   "metadata": {},
   "outputs": [
    {
     "name": "stdout",
     "output_type": "stream",
     "text": [
      "{'max_depth': 9, 'min_samples_leaf': 1, 'min_samples_split': 1}\n",
      "Precision: 0.87, Recall: 0.87, F1-Score: 0.87\n"
     ]
    }
   ],
   "source": [
    "from models.decision_tree import DecisionTreeClassifier as OwnDecisionTreeClassifier\n",
    "from sklearn.model_selection import ParameterGrid, train_test_split\n",
    "from sklearn.metrics import classification_report\n",
    "from sklearn.datasets import load_digits\n",
    "from utils.grid_search_cv import GridSearchCV\n",
    "from utils.reports import evaluate_classification\n",
    "\n",
    "ds_c_hard = load_digits()\n",
    "X, Y = ds_c_hard.data, ds_c_hard.target\n",
    "X_train, X_test, Y_train, Y_test = train_test_split(X , Y, test_size=0.2, random_state=42)\n",
    "\n",
    "\n",
    "params = {\n",
    "    'max_depth': [8, 9, 10],\n",
    "    'min_samples_split': [1, 2],\n",
    "    'min_samples_leaf': [1, 2]\n",
    "}\n",
    "\n",
    "param_grid = list(ParameterGrid(params))\n",
    "\n",
    "grid_search = GridSearchCV(OwnDecisionTreeClassifier, param_grid, cv=5)\n",
    "\n",
    "\n",
    "grid_search.fit(X_train, Y_train)\n",
    "\n",
    "print(grid_search.best_params)\n",
    "\n",
    "Y_pred = grid_search.predict(X_test)\n",
    "evaluate_classification(Y_test, Y_pred)"
   ]
  }
 ],
 "metadata": {
  "kernelspec": {
   "display_name": "venv",
   "language": "python",
   "name": "python3"
  },
  "language_info": {
   "codemirror_mode": {
    "name": "ipython",
    "version": 3
   },
   "file_extension": ".py",
   "mimetype": "text/x-python",
   "name": "python",
   "nbconvert_exporter": "python",
   "pygments_lexer": "ipython3",
   "version": "3.10.12"
  }
 },
 "nbformat": 4,
 "nbformat_minor": 2
}
