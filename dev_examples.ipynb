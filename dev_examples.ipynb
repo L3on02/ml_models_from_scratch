{
 "cells": [
  {
   "cell_type": "code",
   "execution_count": 1,
   "metadata": {},
   "outputs": [],
   "source": [
    "from sklearn.datasets import load_breast_cancer, fetch_california_housing\n",
    "from sklearn.model_selection import train_test_split\n",
    "from models.decision_tree import DecisionTreeClassifier, DecisionTreeRegressor\n",
    "from models.random_forest import RandomForestClassifier, RandomForestRegressor"
   ]
  },
  {
   "cell_type": "code",
   "execution_count": null,
   "metadata": {},
   "outputs": [],
   "source": [
    "ds = load_breast_cancer()\n",
    "X = ds.data\n",
    "Y = ds.target\n",
    "X_train, X_test, Y_train, Y_test = train_test_split(X, Y, test_size=0.2, random_state=42)\n",
    "\n",
    "dt_classifier = DecisionTreeClassifier(max_depth=5)\n",
    "\n",
    "# Fit the model\n",
    "dt_classifier.fit(X_train, Y_train)\n",
    "\n",
    "# Make predictions on the test set\n",
    "Y_pred = dt_classifier.predict(X_test)\n",
    "\n",
    "from sklearn.metrics import accuracy_score, confusion_matrix\n",
    "\n",
    "# Calculate accuracy\n",
    "accuracy = accuracy_score(Y_test, Y_pred)\n",
    "print(f'Accuracy: {accuracy:.2f}')\n",
    "\n",
    "# Display confusion matrix\n",
    "conf_matrix = confusion_matrix(Y_test, Y_pred)\n",
    "print('Confusion Matrix:')\n",
    "print(conf_matrix)"
   ]
  },
  {
   "cell_type": "code",
   "execution_count": null,
   "metadata": {},
   "outputs": [],
   "source": [
    "ds = fetch_california_housing()\n",
    "X = ds.data\n",
    "Y = ds.target\n",
    "X_train, X_test, Y_train, Y_test = train_test_split(X, Y, test_size=0.2, random_state=42)\n",
    "\n",
    "dt_regressor = DecisionTreeRegressor(max_depth=15)\n",
    "\n",
    "# Fit the model\n",
    "dt_regressor.fit(X_train, Y_train)\n",
    "\n",
    "# Make predictions on the test set\n",
    "Y_pred = dt_regressor.predict(X_test)\n",
    "\n",
    "from sklearn.metrics import  mean_absolute_error, r2_score\n",
    "\n",
    "# Calculate mean absolute error\n",
    "mae = mean_absolute_error(Y_test, Y_pred)\n",
    "print(f'Mean Absolute Error: {mae:.2f}')\n",
    "\n",
    "# Calculate R^2 score\n",
    "r2 = r2_score(Y_test, Y_pred)\n",
    "print(f'R^2 Score: {r2:.2f}')"
   ]
  },
  {
   "cell_type": "code",
   "execution_count": 6,
   "metadata": {},
   "outputs": [
    {
     "name": "stdout",
     "output_type": "stream",
     "text": [
      "Accuracy: 0.94\n",
      "[[38  5]\n",
      " [ 2 69]]\n"
     ]
    }
   ],
   "source": [
    "from sklearn.datasets import load_breast_cancer, fetch_california_housing\n",
    "from sklearn.model_selection import train_test_split\n",
    "from models.decision_tree import DecisionTreeClassifier, DecisionTreeRegressor\n",
    "from models.random_forest import RandomForestClassifier, RandomForestRegressor\n",
    "\n",
    "ds = load_breast_cancer()\n",
    "X = ds.data\n",
    "Y = ds.target\n",
    "X_train, X_test, Y_train, Y_test = train_test_split(X, Y, test_size=0.2, random_state=42)\n",
    "\n",
    "dt_classifier = RandomForestClassifier(n_jobs=-1)\n",
    "\n",
    "# Fit the model\n",
    "dt_classifier.fit(X_train, Y_train)\n",
    "\n",
    "# Make predictions on the test set\n",
    "Y_pred = dt_classifier.predict(X_test)\n",
    "\n",
    "\n",
    "from sklearn.metrics import accuracy_score, confusion_matrix\n",
    "\n",
    "# Calculate accuracy\n",
    "accuracy = accuracy_score(Y_test, Y_pred)\n",
    "print(f'Accuracy: {accuracy:.2f}')\n",
    "\n",
    "# Display confusion matrix\n",
    "conf_matrix = confusion_matrix(Y_test, Y_pred)\n",
    "print(conf_matrix)"
   ]
  },
  {
   "cell_type": "code",
   "execution_count": 7,
   "metadata": {},
   "outputs": [
    {
     "name": "stdout",
     "output_type": "stream",
     "text": [
      "Mean Absolute Error: 0.52\n",
      "R^2 Score: 0.57\n"
     ]
    }
   ],
   "source": [
    "from sklearn.datasets import load_breast_cancer, fetch_california_housing\n",
    "from sklearn.model_selection import train_test_split\n",
    "from models.decision_tree import DecisionTreeClassifier, DecisionTreeRegressor\n",
    "from models.random_forest import RandomForestClassifier, RandomForestRegressor\n",
    "\n",
    "ds = fetch_california_housing()\n",
    "X = ds.data\n",
    "Y = ds.target\n",
    "X_train, X_test, Y_train, Y_test = train_test_split(X, Y, test_size=0.2, random_state=42)\n",
    "\n",
    "dt_regressor = RandomForestRegressor()\n",
    "\n",
    "# Fit the model\n",
    "dt_regressor.fit(X_train, Y_train)\n",
    "\n",
    "# Make predictions on the test set\n",
    "Y_pred = dt_regressor.predict(X_test)\n",
    "\n",
    "from sklearn.metrics import  mean_absolute_error, r2_score\n",
    "\n",
    "# Calculate mean absolute error\n",
    "mae = mean_absolute_error(Y_test, Y_pred)\n",
    "print(f'Mean Absolute Error: {mae:.2f}')\n",
    "\n",
    "# Calculate R^2 score\n",
    "r2 = r2_score(Y_test, Y_pred)\n",
    "print(f'R^2 Score: {r2:.2f}')"
   ]
  },
  {
   "cell_type": "code",
   "execution_count": null,
   "metadata": {},
   "outputs": [],
   "source": [
    "from sklearn.datasets import load_breast_cancer, fetch_california_housing\n",
    "from sklearn.model_selection import train_test_split\n",
    "from models.gradient_boosting_tree import GradientBoostingClassifier, GradientBoostingRegressor\n",
    "\n",
    "ds = load_breast_cancer()\n",
    "X = ds.data\n",
    "Y = ds.target\n",
    "X_train, X_test, Y_train, Y_test = train_test_split(X, Y, test_size=0.2, random_state=42)\n",
    "\n",
    "dt_classifier = GradientBoostingClassifier(max_depth=10, n_estimators=100, learning_rate=0.1, tolerance=0.05, patience=5)\n",
    "\n",
    "# Fit the model\n",
    "dt_classifier.fit(X_train, Y_train)\n",
    "\n",
    "# Make predictions on the test set\n",
    "Y_pred = dt_classifier.predict(X_test)\n",
    "\n",
    "\n",
    "from sklearn.metrics import accuracy_score, confusion_matrix\n",
    "\n",
    "# Calculate accuracy\n",
    "accuracy = accuracy_score(Y_test, Y_pred)\n",
    "print(f'Accuracy: {accuracy:.2f}')\n",
    "\n",
    "# Display confusion matrix\n",
    "conf_matrix = confusion_matrix(Y_test, Y_pred)\n",
    "print(conf_matrix)"
   ]
  },
  {
   "cell_type": "code",
   "execution_count": null,
   "metadata": {},
   "outputs": [],
   "source": [
    "from sklearn.datasets import load_breast_cancer, fetch_california_housing\n",
    "from sklearn.model_selection import train_test_split\n",
    "from models.gradient_boosting_tree import GradientBoostingClassifier, GradientBoostingRegressor\n",
    "\n",
    "ds = fetch_california_housing()\n",
    "X = ds.data\n",
    "Y = ds.target\n",
    "X_train, X_test, Y_train, Y_test = train_test_split(X, Y, test_size=0.2, random_state=42)\n",
    "\n",
    "dt_regressor = GradientBoostingRegressor(max_depth=10, n_estimators=100, learning_rate=0.1, tolerance=0.05, patience=5)\n",
    "\n",
    "# Fit the model\n",
    "dt_regressor.fit(X_train, Y_train)\n",
    "\n",
    "# Make predictions on the test set\n",
    "Y_pred = dt_regressor.predict(X_test)\n",
    "\n",
    "from sklearn.metrics import  mean_absolute_error, r2_score\n",
    "\n",
    "# Calculate mean absolute error\n",
    "mae = mean_absolute_error(Y_test, Y_pred)\n",
    "print(f'Mean Absolute Error: {mae:.2f}')\n",
    "\n",
    "# Calculate R^2 score\n",
    "r2 = r2_score(Y_test, Y_pred)\n",
    "print(f'R^2 Score: {r2:.2f}')"
   ]
  }
 ],
 "metadata": {
  "kernelspec": {
   "display_name": "venv",
   "language": "python",
   "name": "python3"
  },
  "language_info": {
   "codemirror_mode": {
    "name": "ipython",
    "version": 3
   },
   "file_extension": ".py",
   "mimetype": "text/x-python",
   "name": "python",
   "nbconvert_exporter": "python",
   "pygments_lexer": "ipython3",
   "version": "3.10.12"
  }
 },
 "nbformat": 4,
 "nbformat_minor": 2
}
